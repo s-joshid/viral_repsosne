{
 "cells": [
  {
   "cell_type": "markdown",
   "id": "130f2c94-7174-49b0-8af5-82e4c3d355a7",
   "metadata": {},
   "source": [
    "# Goal\n",
    "\n",
    "Find CyCOGs that might be associated with antiphage defense systems, based on Pfam annotation and cross-referencing the putative antiphage defense systems identified by [Doron et al. (2018)](https://www.science.org/doi/10.1126/science.aar4120)\n",
    "\n",
    "## Inputs:\n",
    "- Supplemental Table 3 from Doron et al. (and maybe 1 & 2 as well)\n",
    "- 'CyCOG Annotations' tab of Supplemental Table 3 from Blaskowski et al. (in prep)\n",
    "\n",
    "## Output\n",
    "- Dataframe matching each putative antiphage defense system with it's corresponding CyCOG(s)\n"
   ]
  },
  {
   "cell_type": "code",
   "execution_count": null,
   "id": "b22af6c9-7645-4376-9101-c31fe797ce37",
   "metadata": {},
   "outputs": [],
   "source": []
  },
  {
   "cell_type": "code",
   "execution_count": null,
   "id": "8f9789ba-26e4-4d11-a700-a664f7001640",
   "metadata": {},
   "outputs": [],
   "source": []
  },
  {
   "cell_type": "code",
   "execution_count": null,
   "id": "346273a4-6a53-49d3-b7ec-08ffce40510f",
   "metadata": {},
   "outputs": [],
   "source": []
  },
  {
   "cell_type": "code",
   "execution_count": null,
   "id": "3a4a12cb-99aa-4518-a61f-92fa1f9861b1",
   "metadata": {},
   "outputs": [],
   "source": []
  },
  {
   "cell_type": "code",
   "execution_count": null,
   "id": "82eabb0d-ccb7-4341-b1aa-a452c6b27de7",
   "metadata": {},
   "outputs": [],
   "source": []
  }
 ],
 "metadata": {
  "kernelspec": {
   "display_name": "Python 3 (ipykernel)",
   "language": "python",
   "name": "python3"
  },
  "language_info": {
   "codemirror_mode": {
    "name": "ipython",
    "version": 3
   },
   "file_extension": ".py",
   "mimetype": "text/x-python",
   "name": "python",
   "nbconvert_exporter": "python",
   "pygments_lexer": "ipython3",
   "version": "3.10.8"
  }
 },
 "nbformat": 4,
 "nbformat_minor": 5
}
